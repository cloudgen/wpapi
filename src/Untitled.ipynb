{
 "cells": [
  {
   "cell_type": "code",
   "execution_count": 1,
   "id": "333dd237-3a84-4a5e-b807-4ed366b0b0f7",
   "metadata": {},
   "outputs": [
    {
     "name": "stdout",
     "output_type": "stream",
     "text": [
      "{\n",
      "  \"ip\": \"115.160.183.190\",\n",
      "  \"hostname\": \"mail3.globalcall.com.hk\",\n",
      "  \"city\": \"Hong Kong\",\n",
      "  \"region\": \"Central and Western\",\n",
      "  \"country\": \"HK\",\n",
      "  \"loc\": \"22.2783,114.1747\",\n",
      "  \"org\": \"AS9381 HKBN Enterprise Solutions HK Limited\",\n",
      "  \"timezone\": \"Asia/Hong_Kong\",\n",
      "  \"readme\": \"https://ipinfo.io/missingauth\"\n",
      "}\n"
     ]
    }
   ],
   "source": [
    "import requests\n",
    "ip = requests.get(\"https://ipinfo.io\")\n",
    "print(ip.text)"
   ]
  },
  {
   "cell_type": "code",
   "execution_count": 5,
   "id": "ed66534a-3c8a-4c44-8abc-3d71a4658e80",
   "metadata": {},
   "outputs": [
    {
     "name": "stdout",
     "output_type": "stream",
     "text": [
      "{'ip': '115.160.183.190', 'hostname': 'mail3.globalcall.com.hk', 'city': 'Hong Kong', 'region': 'Central and Western', 'country': 'HK', 'loc': '22.2783,114.1747', 'org': 'AS9381 HKBN Enterprise Solutions HK Limited', 'timezone': 'Asia/Hong_Kong', 'readme': 'https://ipinfo.io/missingauth'}\n"
     ]
    }
   ],
   "source": [
    "print(ip.json())\n"
   ]
  },
  {
   "cell_type": "code",
   "execution_count": 8,
   "id": "5e547b08-b277-4fb7-9bfe-04d42de5cf48",
   "metadata": {},
   "outputs": [
    {
     "name": "stdout",
     "output_type": "stream",
     "text": [
      "Central and Western\n"
     ]
    }
   ],
   "source": [
    "js = ip.json()\n",
    "print(js['region'])"
   ]
  }
 ],
 "metadata": {
  "kernelspec": {
   "display_name": "Python 3 (ipykernel)",
   "language": "python",
   "name": "python3"
  },
  "language_info": {
   "codemirror_mode": {
    "name": "ipython",
    "version": 3
   },
   "file_extension": ".py",
   "mimetype": "text/x-python",
   "name": "python",
   "nbconvert_exporter": "python",
   "pygments_lexer": "ipython3",
   "version": "3.10.12"
  }
 },
 "nbformat": 4,
 "nbformat_minor": 5
}
